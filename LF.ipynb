{
 "cells": [
  {
   "cell_type": "markdown",
   "metadata": {},
   "source": [
    "LOSS FUNCTION"
   ]
  },
  {
   "cell_type": "code",
   "execution_count": 2,
   "metadata": {},
   "outputs": [],
   "source": [
    "import numpy as np\n",
    "from sklearn.metrics import mean_squared_error,mean_absolute_error"
   ]
  },
  {
   "cell_type": "code",
   "execution_count": 3,
   "metadata": {},
   "outputs": [],
   "source": [
    "# True and predicted values\n",
    "y_true_reg = np.array([3.0, -0.5, 2.0, 7.0])  # For regression losses\n",
    "y_pred_reg = np.array([2.5, 0.0, 2.1, 7.8])\n",
    "\n",
    "y_true_bin = np.array([1, 0, 1, 1])  # For binary classification losses\n",
    "y_pred_bin = np.array([0.9, 0.2, 0.8, 0.7])\n",
    "\n",
    "y_true_multi = np.array([[1, 0, 0], [0, 1, 0], [0, 0, 1]])  # For multi-class classification\n",
    "y_pred_multi = np.array([[0.8, 0.1, 0.1], [0.2, 0.7, 0.1], [0.1, 0.2, 0.7]])"
   ]
  },
  {
   "cell_type": "code",
   "execution_count": 5,
   "metadata": {},
   "outputs": [
    {
     "data": {
      "text/plain": [
       "0.2874999999999999"
      ]
     },
     "execution_count": 5,
     "metadata": {},
     "output_type": "execute_result"
    }
   ],
   "source": [
    "mse=mean_squared_error(y_true_reg,y_pred_reg)\n",
    "mse"
   ]
  },
  {
   "cell_type": "code",
   "execution_count": 6,
   "metadata": {},
   "outputs": [
    {
     "data": {
      "text/plain": [
       "0.475"
      ]
     },
     "execution_count": 6,
     "metadata": {},
     "output_type": "execute_result"
    }
   ],
   "source": [
    "mae=mean_absolute_error(y_true_reg,y_pred_reg)\n",
    "mae"
   ]
  },
  {
   "cell_type": "code",
   "execution_count": 8,
   "metadata": {},
   "outputs": [
    {
     "name": "stdout",
     "output_type": "stream",
     "text": [
      "binary_cross_entropy 0.22708064055624455\n"
     ]
    }
   ],
   "source": [
    "def binary_cross_entropy(y_true,y_pred):\n",
    "    return -np.mean(y_true * np.log(y_pred) + (1 - y_true) * np.log(1 - y_pred))\n",
    "\n",
    "print(\"binary_cross_entropy\",binary_cross_entropy(y_true_bin,y_pred_bin))"
   ]
  },
  {
   "cell_type": "code",
   "execution_count": 9,
   "metadata": {},
   "outputs": [
    {
     "name": "stdout",
     "output_type": "stream",
     "text": [
      "binary catagorical entropy 0.3121644797305582\n"
     ]
    }
   ],
   "source": [
    "def binary_catagorical_entropy(y_true,y_pred):\n",
    "    return -np.mean(np.sum(y_true * np.log(y_pred), axis=1))\n",
    "\n",
    "print(\"binary catagorical entropy\",binary_catagorical_entropy(y_true_multi,y_pred_multi))"
   ]
  },
  {
   "cell_type": "code",
   "execution_count": 10,
   "metadata": {},
   "outputs": [
    {
     "name": "stdout",
     "output_type": "stream",
     "text": [
      "huber loss 0.14374999999999996\n"
     ]
    }
   ],
   "source": [
    "def huber_loss(y_true,y_pred,delta=1):\n",
    "    error=y_true-y_pred\n",
    "    return np.mean(np.where(np.abs(error) <= delta, 0.5 * error**2, delta * (np.abs(error) - 0.5 * delta)))\n",
    "\n",
    "print(\"huber loss\",huber_loss(y_true_reg,y_pred_reg))"
   ]
  },
  {
   "cell_type": "code",
   "execution_count": null,
   "metadata": {},
   "outputs": [],
   "source": []
  }
 ],
 "metadata": {
  "kernelspec": {
   "display_name": "myvenv",
   "language": "python",
   "name": "python3"
  },
  "language_info": {
   "codemirror_mode": {
    "name": "ipython",
    "version": 3
   },
   "file_extension": ".py",
   "mimetype": "text/x-python",
   "name": "python",
   "nbconvert_exporter": "python",
   "pygments_lexer": "ipython3",
   "version": "3.12.4"
  }
 },
 "nbformat": 4,
 "nbformat_minor": 2
}
