{
 "cells": [
  {
   "cell_type": "markdown",
   "metadata": {},
   "source": [
    "SINGLE LAYER PERCEPTRON\n"
   ]
  },
  {
   "cell_type": "code",
   "execution_count": 1,
   "metadata": {},
   "outputs": [],
   "source": [
    "import numpy as np"
   ]
  },
  {
   "cell_type": "code",
   "execution_count": 2,
   "metadata": {},
   "outputs": [],
   "source": [
    "def step_function(x):\n",
    "    return 1 if x>=0 else 0"
   ]
  },
  {
   "cell_type": "code",
   "execution_count": 50,
   "metadata": {},
   "outputs": [],
   "source": [
    "class perceptron:\n",
    "    def __init__(self,input_size,learing_rate=0.01):\n",
    "        self.weights=np.random.randn(input_size)\n",
    "        self.bias=np.random.randn(1)\n",
    "        self.learning_rate=learing_rate\n",
    "\n",
    "    def predict(self,inputs):\n",
    "        weighted_sum=np.dot(inputs,self.weights)+self.bias\n",
    "        return step_function(weighted_sum)\n",
    "    \n",
    "    def train(self,x,y,epochs=10):\n",
    "        for epoch in range(epochs):\n",
    "            for i in range(len(x)):\n",
    "                prediction=self.predict(x[i])\n",
    "                error=y[i]-prediction\n",
    "\n",
    "                self.weights+= self.learning_rate*error*x[i]\n",
    "                self.bias+= self.learning_rate*error\n",
    "\n",
    "                print(f'Epoch{epoch+1}, Sample {i+1}, Error: {error}')"
   ]
  },
  {
   "cell_type": "code",
   "execution_count": 51,
   "metadata": {},
   "outputs": [
    {
     "name": "stdout",
     "output_type": "stream",
     "text": [
      "Epoch1, Sample 1, Error: 0\n",
      "Epoch1, Sample 2, Error: 0\n",
      "Epoch1, Sample 3, Error: 0\n",
      "Epoch1, Sample 4, Error: 0\n",
      "Epoch2, Sample 1, Error: 0\n",
      "Epoch2, Sample 2, Error: 0\n",
      "Epoch2, Sample 3, Error: 0\n",
      "Epoch2, Sample 4, Error: 0\n",
      "Epoch3, Sample 1, Error: 0\n",
      "Epoch3, Sample 2, Error: 0\n",
      "Epoch3, Sample 3, Error: 0\n",
      "Epoch3, Sample 4, Error: 0\n",
      "Epoch4, Sample 1, Error: 0\n",
      "Epoch4, Sample 2, Error: 0\n",
      "Epoch4, Sample 3, Error: 0\n",
      "Epoch4, Sample 4, Error: 0\n",
      "Epoch5, Sample 1, Error: 0\n",
      "Epoch5, Sample 2, Error: 0\n",
      "Epoch5, Sample 3, Error: 0\n",
      "Epoch5, Sample 4, Error: 0\n",
      "Epoch6, Sample 1, Error: 0\n",
      "Epoch6, Sample 2, Error: 0\n",
      "Epoch6, Sample 3, Error: 0\n",
      "Epoch6, Sample 4, Error: 0\n",
      "Epoch7, Sample 1, Error: 0\n",
      "Epoch7, Sample 2, Error: 0\n",
      "Epoch7, Sample 3, Error: 0\n",
      "Epoch7, Sample 4, Error: 0\n",
      "Epoch8, Sample 1, Error: 0\n",
      "Epoch8, Sample 2, Error: 0\n",
      "Epoch8, Sample 3, Error: 0\n",
      "Epoch8, Sample 4, Error: 0\n",
      "Epoch9, Sample 1, Error: 0\n",
      "Epoch9, Sample 2, Error: 0\n",
      "Epoch9, Sample 3, Error: 0\n",
      "Epoch9, Sample 4, Error: 0\n",
      "Epoch10, Sample 1, Error: 0\n",
      "Epoch10, Sample 2, Error: 0\n",
      "Epoch10, Sample 3, Error: 0\n",
      "Epoch10, Sample 4, Error: 0\n"
     ]
    }
   ],
   "source": [
    "x=np.array([\n",
    "    [0,0],\n",
    "    [1,0],\n",
    "    [0,1],\n",
    "    [1,1]\n",
    "])\n",
    "y=np.array([0,1,1,1])\n",
    "\n",
    "model = perceptron(input_size=2)\n",
    "model.train(x, y, epochs=10)"
   ]
  },
  {
   "cell_type": "code",
   "execution_count": 52,
   "metadata": {},
   "outputs": [
    {
     "name": "stdout",
     "output_type": "stream",
     "text": [
      "Predictions:\n",
      "Input: [0 0] → Prediction: 0\n",
      "Input: [1 0] → Prediction: 1\n",
      "Input: [0 1] → Prediction: 1\n",
      "Input: [1 1] → Prediction: 1\n"
     ]
    }
   ],
   "source": [
    "print(\"Predictions:\")\n",
    "for inputs in x:\n",
    "    print(f\"Input: {inputs} → Prediction: {model.predict(inputs)}\")"
   ]
  },
  {
   "cell_type": "code",
   "execution_count": null,
   "metadata": {},
   "outputs": [],
   "source": []
  }
 ],
 "metadata": {
  "kernelspec": {
   "display_name": "myvenv",
   "language": "python",
   "name": "python3"
  },
  "language_info": {
   "codemirror_mode": {
    "name": "ipython",
    "version": 3
   },
   "file_extension": ".py",
   "mimetype": "text/x-python",
   "name": "python",
   "nbconvert_exporter": "python",
   "pygments_lexer": "ipython3",
   "version": "3.12.4"
  }
 },
 "nbformat": 4,
 "nbformat_minor": 2
}
